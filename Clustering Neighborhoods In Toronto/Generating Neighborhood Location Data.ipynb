{
 "cells": [
  {
   "cell_type": "code",
   "execution_count": 1,
   "metadata": {},
   "outputs": [
    {
     "ename": "ModuleNotFoundError",
     "evalue": "No module named 'env_tools'",
     "output_type": "error",
     "traceback": [
      "\u001b[0;31m---------------------------------------------------------------------------\u001b[0m",
      "\u001b[0;31mModuleNotFoundError\u001b[0m                       Traceback (most recent call last)",
      "\u001b[0;32m<ipython-input-1-b202cc1853c2>\u001b[0m in \u001b[0;36m<module>\u001b[0;34m\u001b[0m\n\u001b[1;32m      1\u001b[0m \u001b[0;32mimport\u001b[0m \u001b[0mpandas\u001b[0m \u001b[0;32mas\u001b[0m \u001b[0mpd\u001b[0m\u001b[0;34m\u001b[0m\u001b[0;34m\u001b[0m\u001b[0m\n\u001b[1;32m      2\u001b[0m \u001b[0;32mimport\u001b[0m \u001b[0mnumpy\u001b[0m \u001b[0;32mas\u001b[0m \u001b[0mnp\u001b[0m\u001b[0;34m\u001b[0m\u001b[0;34m\u001b[0m\u001b[0m\n\u001b[0;32m----> 3\u001b[0;31m \u001b[0;32mfrom\u001b[0m \u001b[0menv_tools\u001b[0m \u001b[0;32mimport\u001b[0m \u001b[0mprepare_env\u001b[0m \u001b[0;31m#custom local site library that is used to prepare environment variables with\u001b[0m\u001b[0;34m\u001b[0m\u001b[0;34m\u001b[0m\u001b[0m\n\u001b[0m\u001b[1;32m      4\u001b[0m                                   \u001b[0;31m#sensitive information without showing such information explicitly\u001b[0m\u001b[0;34m\u001b[0m\u001b[0;34m\u001b[0m\u001b[0;34m\u001b[0m\u001b[0m\n\u001b[1;32m      5\u001b[0m \u001b[0mprepare_env\u001b[0m\u001b[0;34m(\u001b[0m\u001b[0;34m'google'\u001b[0m\u001b[0;34m)\u001b[0m\u001b[0;34m\u001b[0m\u001b[0;34m\u001b[0m\u001b[0m\n",
      "\u001b[0;31mModuleNotFoundError\u001b[0m: No module named 'env_tools'"
     ]
    }
   ],
   "source": [
    "import pandas as pd\n",
    "import numpy as np\n",
    "from env_tools import prepare_env #custom local site library that is used to prepare environment variables with \n",
    "                                  #sensitive information without showing such information explicitly\n",
    "prepare_env('google')\n",
    "import os\n",
    "key = os.environ['GEOCODERS_API'] # google offers a geocoders api available for use for a fee\n",
    "toronto_nb = pd.read_csv(\"datasets/toronto_neighborhoods.csv\")"
   ]
  },
  {
   "cell_type": "markdown",
   "metadata": {},
   "source": [
    "** Method **\n",
    "\n",
    "Within this analysis, all neighborhoods within the Toronto area will be utilized. As such, the following code serves  as a means to record the latitude and longitude of each neighborhood for later clustering analyses."
   ]
  },
  {
   "cell_type": "code",
   "execution_count": null,
   "metadata": {
    "scrolled": true
   },
   "outputs": [],
   "source": [
    "toronto_nb.head()"
   ]
  },
  {
   "cell_type": "code",
   "execution_count": null,
   "metadata": {
    "scrolled": true
   },
   "outputs": [],
   "source": [
    "try:\n",
    "    coordinate_dataframe = pd.read_csv(\"datasets/toronto_nb_coords.csv\")\n",
    "    \n",
    "except FileNotFoundError:\n",
    "    \n",
    "    index=['PostalCode',\"Latitude\",\"Longitude\"]\n",
    "    \n",
    "    # Using the google maps api directly to reliably retrieve location data by postal code:\n",
    "    def get_coords(postalcode,index=index,key=key):\n",
    "        params = dict(key=key,address=\"{}, Toronto, Canada\".format(postalcode))\n",
    "        api_url = 'https://maps.googleapis.com/maps/api/geocode/json'\n",
    "        response = requests.get(api_url,params=params)    \n",
    "        location=response.json()['results'][0]['geometry']['location']\n",
    "        lat, lon = location['lat'],location['lng']\n",
    "        row_vals = [postalcode,lat,lon]\n",
    "        row = pd.Series(row_vals,index=index)\n",
    "        return row\n",
    "\n",
    "    coordinate_dataframe=toronto_nb['PostalCode'].apply(get_coords)\n",
    "    \n",
    "    # to avoid paying money unnecessarily, the dataset is saved for later use when running the same analysis:\n",
    "    coordinate_dataframe.to_csv(\"datasets/toronto_nb_coords.csv\",index=False)\n",
    "\n",
    "print(\"Data Types:\")\n",
    "print(coordinate_dataframe.dtypes,'\\n')\n",
    "print(\"Total Null:\")\n",
    "print(coordinate_dataframe.isnull().sum(),'\\n\\n')\n",
    "print(\"Coordinate DataFrame:\")\n",
    "display(coordinate_dataframe)"
   ]
  },
  {
   "cell_type": "code",
   "execution_count": null,
   "metadata": {},
   "outputs": [],
   "source": [
    "toronto_nb_locations = toronto_nb.merge(coordinate_dataframe)\n",
    "print(\"Total Null:\")\n",
    "print(toronto_nb_locations.isnull().sum(),'\\n\\n')\n",
    "toronto_nb_locations"
   ]
  }
 ],
 "metadata": {
  "kernelspec": {
   "display_name": "Python 3",
   "language": "python",
   "name": "python3"
  },
  "language_info": {
   "codemirror_mode": {
    "name": "ipython",
    "version": 3
   },
   "file_extension": ".py",
   "mimetype": "text/x-python",
   "name": "python",
   "nbconvert_exporter": "python",
   "pygments_lexer": "ipython3",
   "version": "3.7.4"
  }
 },
 "nbformat": 4,
 "nbformat_minor": 2
}
